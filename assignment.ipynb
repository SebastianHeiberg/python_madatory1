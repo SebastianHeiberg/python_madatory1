{
 "cells": [
  {
   "cell_type": "markdown",
   "metadata": {},
   "source": [
    "1:Model an organisation of employees, management and board of directors in 3 sets."
   ]
  },
  {
   "cell_type": "code",
   "execution_count": 15,
   "metadata": {},
   "outputs": [
    {
     "name": "stdout",
     "output_type": "stream",
     "text": [
      "{'Niels', 'James', 'Stine', 'Bent', 'Lars', 'Anna', 'Claus', 'Allan', 'Ole'}\n"
     ]
    }
   ],
   "source": [
    "board_of_Directors = {'Benny', 'Hans', 'Tine', 'Mille', 'Torben', 'Troels', 'Søren'}\n",
    "management = {'Tine', 'Trunte', 'Rane'}\n",
    "employees = {'Niels','Anna','Tine','Ole','Trunte', 'Bent', 'Rane', 'Allan', 'Stine', 'Claus', 'James', 'Lars'}\n",
    "\n",
    "\n",
    "# 1.1 who in the board of directors is not an employee?\n",
    "directorsNotEmplyee = board_of_Directors.difference(employees)\n",
    "\n",
    "# 1.2  who in the board of directors is also an employee?        \n",
    "directorsIsEmplyee = board_of_Directors.intersection(employees)\n",
    "\n",
    "# 1.3 how many of the management is also member of the board?\n",
    "managementIsDirectors = management.intersection(board_of_Directors)\n",
    "\n",
    "# 1.4 All members of the managent also an employee\n",
    "managementIsEmployee = management.intersection(employees)\n",
    "\n",
    "# 1.5 All members of the management also in the board?\n",
    "isAllManagementInboard = management.issuperset(board_of_Directors)\n",
    "\n",
    "# 1.6 Who is an employee, member of the management, and a member of the board?\n",
    "whoIsEmplyeeAndManagementAndDirector = managementIsEmployee.intersection(board_of_Directors)\n",
    "\n",
    "# 1.7 Who of the employee is neither a memeber or the board or management?\n",
    "employeeIsNotBoardOrManagement = employees.difference(management, board_of_Directors)\n",
    "\n",
    "\n",
    "\n"
   ]
  },
  {
   "cell_type": "markdown",
   "metadata": {},
   "source": [
    "2. Create a list of tuples from the folowing datastructure:\n",
    "{‘a’: ‘Alpha’, ‘b’ : ‘Beta’, ‘g’: ‘Gamma’}"
   ]
  },
  {
   "cell_type": "code",
   "execution_count": null,
   "metadata": {},
   "outputs": [],
   "source": [
    "myListOfTuples = [ (\"a\" , \"Alpha\"),(\"b\" , \"Beta\"),(\"g\" , \"Gamma\")]\n",
    "\n"
   ]
  },
  {
   "cell_type": "markdown",
   "metadata": {},
   "source": [
    "3. From these 2 sets:\n",
    "{'a', 'e', 'i', 'o', 'u', 'y'}\n",
    "\n",
    "{'a', 'e', 'i', 'o', 'u', 'y', 'æ' ,'ø', 'å'}"
   ]
  },
  {
   "cell_type": "code",
   "execution_count": 21,
   "metadata": {},
   "outputs": [
    {
     "name": "stdout",
     "output_type": "stream",
     "text": [
      "set()\n"
     ]
    }
   ],
   "source": [
    "s1 = {'a', 'e', 'i', 'o', 'u', 'y'}\n",
    "s2 = {'a', 'e', 'i', 'o', 'u', 'y', 'æ' ,'ø', 'å'}\n",
    "\n",
    "# 3.1 create a union\n",
    "\n",
    "union = s1.union(s2)\n",
    "union2 = s1 | s2\n",
    "\n",
    "# 3.2 symmetric difference\n",
    "\n",
    "symDif = s1.symmetric_difference(s2)\n",
    "symDif2 = s1 ^ s2\n",
    "\n",
    "# 3.3 difference\n",
    "\n",
    "difference = s1.difference(s2)\n",
    "difference2 = s1 - s2\n",
    "\n",
    "# 3.4 disjoint\n",
    "\n",
    "intersection = s1.intersection(s2)\n",
    "intersection2 = s1 & s2\n",
    "\n",
    "\n"
   ]
  },
  {
   "cell_type": "markdown",
   "metadata": {},
   "source": [
    "4. Date Decoder."
   ]
  },
  {
   "cell_type": "code",
   "execution_count": 30,
   "metadata": {},
   "outputs": [
    {
     "name": "stdout",
     "output_type": "stream",
     "text": [
      "('1985', '12', '08')\n"
     ]
    }
   ],
   "source": [
    "# A date of the form 8-MAR-85 includes the name of the month, which must be translated to a number.\n",
    "\n",
    "# 4.1 Create a dict suitable for decoding month names to numbers.\n",
    "\n",
    "calender = {\n",
    "    \"JAN\" : 1,\n",
    "    \"FEB\" : 2,\n",
    "    \"MAR\" : 3,\n",
    "    \"APR\" : 4,\n",
    "    \"MAJ\" : 5,\n",
    "    \"JUN\" : 6,\n",
    "    \"JUL\" : 7,\n",
    "    \"AUG\" : 8,\n",
    "    \"SEP\" : 9,\n",
    "    \"OKT\" : 10,\n",
    "    \"NOV\" : 11,\n",
    "    \"DEC\" : 12\n",
    "\n",
    "}\n",
    "\n",
    "# 4.2 Create a function which uses string operations to split the date into 3 items using the \"-\" character.\n",
    "# Translate the month, correct the year to include all of the digits.\n",
    "# The function will accept a date in the \"dd-MMM-yy\" format and respond with a tuple of ( y , m , d ).\n",
    "\n",
    "def dateCorrecter (word):\n",
    "    words = word.split('-')\n",
    "    year = words[2]\n",
    "    if int(year) >= 0 and int(year) <= 19:\n",
    "        year = \"20\" + year\n",
    "    else:\n",
    "        year = \"19\" + year\n",
    "    month = calender[words[1]]\n",
    "    day = words[0]\n",
    "\n",
    "    return (year, str(month).zfill(2), str(day).zfill(2))\n",
    "\n",
    "print(dateCorrecter(\"8-DEC-85\"))"
   ]
  },
  {
   "cell_type": "markdown",
   "metadata": {},
   "source": [
    "5: Party exercise\n",
    "\n",
    "You are organizing a party and have two lists of friends. One list contains the friends you have invited, and the other list contains the friends who have RSVP'd.\n",
    "\n",
    "You want to find out who has not RSVP'd, who was not invited but RSVP'd, and who are common in both lists.\n",
    "\n",
    "Task: Write a Python program that takes two sets of names, one set containing the names of friends invited to the party and another set containing the names of friends who have RSVP'd.\n",
    "1.The program should then print out the names of friends who have not RSVP'd\n",
    "2.the names of friends who were not invited but RSVP'd\n",
    "3. the names of friends who are common in both lists (i.e., invited and RSVP'd)."
   ]
  },
  {
   "cell_type": "code",
   "execution_count": 6,
   "metadata": {},
   "outputs": [
    {
     "data": {
      "text/plain": [
       "\"Friends who have not RSVP'd: {'Charlie', 'Alice', 'Emily'}\\nFriends who were not invited but RSVP'd: {'Fiona', 'Grace', 'Eve'}\\nFriends who are common in both lists: {'David', 'Bob'}\""
      ]
     },
     "execution_count": 6,
     "metadata": {},
     "output_type": "execute_result"
    }
   ],
   "source": [
    "invited_friends = {\"Alice\", \"Bob\", \"Charlie\", \"David\", \"Emily\"}\n",
    "rsvped_friends = {\"Bob\", \"David\", \"Eve\", \"Fiona\", \"Grace\"}\n",
    "\n",
    "def partyPlanner (invitedGuests, rsvps):\n",
    "    friendsNotRsvp = invitedGuests - rsvps\n",
    "    rsvpButNotInvited = rsvps - invitedGuests\n",
    "    friendsWhoRsvp = invitedGuests & rsvps\n",
    "    return (\n",
    "        \"Friends who have not RSVP'd: \" + str(friendsNotRsvp) +\n",
    "        \"\\nFriends who were not invited but RSVP'd: \" + str(rsvpButNotInvited) +\n",
    "        \"\\nFriends who are common in both lists: \" + str(friendsWhoRsvp)\n",
    "    )\n",
    "\n",
    "partyPlanner(invited_friends, rsvped_friends)"
   ]
  },
  {
   "cell_type": "markdown",
   "metadata": {},
   "source": [
    "6. You are a teacher and have a dictionary containing the names of your students as keys and their grades as values.\n",
    "\n",
    "You want to update the grades of some students and then print out the names of all students who have a grade higher than 85.\n",
    "\n",
    "Task: Write a Python program that takes a dictionary of students and their grades, updates the grades of specific students, and then prints out the names of all students who have a grade higher than 85."
   ]
  },
  {
   "cell_type": "code",
   "execution_count": 11,
   "metadata": {},
   "outputs": [
    {
     "name": "stdout",
     "output_type": "stream",
     "text": [
      "Students with heigher score than 85:\n",
      "Max 87\n",
      "David 97\n"
     ]
    }
   ],
   "source": [
    "students = {\n",
    "    \"Jon\": 4,\n",
    "    \"Max\": 95,\n",
    "    \"Eve\": 40,\n",
    "    \"Emily\": 55,\n",
    "    \"Bob\": 100,\n",
    "    \"David\": 97\n",
    "}\n",
    "\n",
    "updatestudentsList = {\n",
    "    \"Max\": 87,\n",
    "    \"Bob\": 15\n",
    "}\n",
    "\n",
    "def updateStudents(listOfStudentsAndNewGrades, dictionaryOfStudentsWithGrades):\n",
    "    dictionaryOfStudentsWithGrades.update(listOfStudentsAndNewGrades)\n",
    "   \n",
    "    print(\"Students with heigher score than 85:\")\n",
    "    for x, y in dictionaryOfStudentsWithGrades.items():\n",
    "        if y >= 85:\n",
    "            print(x, y)\n",
    "\n",
    "updateStudents(updatestudentsList, students)"
   ]
  }
 ],
 "metadata": {
  "kernelspec": {
   "display_name": ".venv",
   "language": "python",
   "name": "python3"
  },
  "language_info": {
   "codemirror_mode": {
    "name": "ipython",
    "version": 3
   },
   "file_extension": ".py",
   "mimetype": "text/x-python",
   "name": "python",
   "nbconvert_exporter": "python",
   "pygments_lexer": "ipython3",
   "version": "3.11.4"
  },
  "orig_nbformat": 4
 },
 "nbformat": 4,
 "nbformat_minor": 2
}
